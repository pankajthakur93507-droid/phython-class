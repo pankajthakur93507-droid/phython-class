{
  "nbformat": 4,
  "nbformat_minor": 0,
  "metadata": {
    "colab": {
      "provenance": [],
      "authorship_tag": "ABX9TyOBiH0xMwUt5JzweIhTqgGz",
      "include_colab_link": true
    },
    "kernelspec": {
      "name": "python3",
      "display_name": "Python 3"
    },
    "language_info": {
      "name": "python"
    }
  },
  "cells": [
    {
      "cell_type": "markdown",
      "metadata": {
        "id": "view-in-github",
        "colab_type": "text"
      },
      "source": [
        "<a href=\"https://colab.research.google.com/github/pankajthakur93507-droid/phython-class/blob/main/classpython.ipynb\" target=\"_parent\"><img src=\"https://colab.research.google.com/assets/colab-badge.svg\" alt=\"Open In Colab\"/></a>"
      ]
    },
    {
      "cell_type": "code",
      "execution_count": 1,
      "metadata": {
        "colab": {
          "base_uri": "https://localhost:8080/"
        },
        "id": "pD3KeB4i-uhm",
        "outputId": "0e021ebe-2224-41be-a452-5c5b320b46b9"
      },
      "outputs": [
        {
          "output_type": "stream",
          "name": "stdout",
          "text": [
            "hello i am Pankaj\n"
          ]
        }
      ],
      "source": [
        "print(\"hello i am Pankaj\")"
      ]
    },
    {
      "cell_type": "code",
      "source": [
        "# code for biodata #\n",
        "print(\"------Bio Data-----\")\n",
        "print(\"NAME:PANKAJ \")\n",
        "print(\"Age:19\")\n",
        "print(\"class:Phython \")\n",
        "print(\"gmail:pankajkthakur93507@gmail.com \" )\n",
        "print(\"Ph:1234567890\")\n",
        "print(\" -----INformation-----\")\n",
        "print(\"address:Morni Hilss BhojKoti\")\n",
        "print(\"Distric:Panchkula\")\n",
        "print(\"Country:India\")\n",
        "print(\"Village:Mamal\")\n",
        "\n",
        "print(\"-----Body INformation-----\")\n",
        "print(\"Height:5.5 fit\")\n",
        "print(\"Weight:55kg\")\n",
        "print(\"Date of birth:-07june2006\")\n",
        "print(\"institute:C Bitss SEC34 chandighar\")"
      ],
      "metadata": {
        "colab": {
          "base_uri": "https://localhost:8080/"
        },
        "id": "UVlmUm4WDhCW",
        "outputId": "897e2764-1456-4431-c70e-b1b9e6e518ce"
      },
      "execution_count": 6,
      "outputs": [
        {
          "output_type": "stream",
          "name": "stdout",
          "text": [
            "------Bio Data-----\n",
            "NAME:PANKAJ \n",
            "Age:19\n",
            "class:Phython \n",
            "gmail:pankajkthakur93507@gmail.com \n",
            "Ph:1234567890\n",
            " -----INformation-----\n",
            "address:Morni Hilss BhojKoti\n",
            "Distric:Panchkula\n",
            "Country:India\n",
            "Village:Mamal\n",
            "-----Body INformation-----\n",
            "Height:5.5 fit\n",
            "Weight:55kg\n",
            "Date of birth:-07june2006\n",
            "institute:C Bitss SEC34 chandighar\n"
          ]
        }
      ]
    },
    {
      "cell_type": "code",
      "source": [
        "Name=\"Pankaj\"\n",
        "print(\"name:\",Name)"
      ],
      "metadata": {
        "colab": {
          "base_uri": "https://localhost:8080/"
        },
        "id": "eKDqlK1jKkSG",
        "outputId": "c6a3fa59-9373-431b-ca2b-f088b5a763ae"
      },
      "execution_count": 8,
      "outputs": [
        {
          "output_type": "stream",
          "name": "stdout",
          "text": [
            "name: Pankaj\n"
          ]
        }
      ]
    }
  ]
}