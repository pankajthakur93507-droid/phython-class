{
  "nbformat": 4,
  "nbformat_minor": 0,
  "metadata": {
    "colab": {
      "provenance": [],
      "authorship_tag": "ABX9TyOzppv9maDizfANiuC0grrh",
      "include_colab_link": true
    },
    "kernelspec": {
      "name": "python3",
      "display_name": "Python 3"
    },
    "language_info": {
      "name": "python"
    }
  },
  "cells": [
    {
      "cell_type": "markdown",
      "metadata": {
        "id": "view-in-github",
        "colab_type": "text"
      },
      "source": [
        "<a href=\"https://colab.research.google.com/github/pankajthakur93507-droid/phython-class/blob/main/classpython.ipynb\" target=\"_parent\"><img src=\"https://colab.research.google.com/assets/colab-badge.svg\" alt=\"Open In Colab\"/></a>"
      ]
    },
    {
      "cell_type": "code",
      "execution_count": null,
      "metadata": {
        "colab": {
          "base_uri": "https://localhost:8080/"
        },
        "id": "pD3KeB4i-uhm",
        "outputId": "0e021ebe-2224-41be-a452-5c5b320b46b9"
      },
      "outputs": [
        {
          "output_type": "stream",
          "name": "stdout",
          "text": [
            "hello i am Pankaj\n"
          ]
        }
      ],
      "source": [
        "print(\"hello i am Pankaj\")"
      ]
    },
    {
      "cell_type": "code",
      "source": [
        "# code for biodata #\n",
        "print(\"------Bio Data-----\")\n",
        "print(\"NAME:PANKAJ \")\n",
        "print(\"Age:19\")\n",
        "print(\"class:Phython \")\n",
        "print(\"gmail:pankajkthakur93507@gmail.com \" )\n",
        "print(\"Ph:1234567890\")\n",
        "print(\" -----INformation-----\")\n",
        "print(\"address:Morni Hilss BhojKoti\")\n",
        "print(\"Distric:Panchkula\")\n",
        "print(\"Country:India\")\n",
        "print(\"Village:Mamal\")\n",
        "\n",
        "print(\"-----Body INformation-----\")\n",
        "print(\"Height:5.5 fit\")\n",
        "print(\"Weight:55kg\")\n",
        "print(\"Date of birth:-07june2006\")\n",
        "print(\"institute:C Bitss SEC34 chandighar\")"
      ],
      "metadata": {
        "colab": {
          "base_uri": "https://localhost:8080/"
        },
        "id": "UVlmUm4WDhCW",
        "outputId": "897e2764-1456-4431-c70e-b1b9e6e518ce"
      },
      "execution_count": null,
      "outputs": [
        {
          "output_type": "stream",
          "name": "stdout",
          "text": [
            "------Bio Data-----\n",
            "NAME:PANKAJ \n",
            "Age:19\n",
            "class:Phython \n",
            "gmail:pankajkthakur93507@gmail.com \n",
            "Ph:1234567890\n",
            " -----INformation-----\n",
            "address:Morni Hilss BhojKoti\n",
            "Distric:Panchkula\n",
            "Country:India\n",
            "Village:Mamal\n",
            "-----Body INformation-----\n",
            "Height:5.5 fit\n",
            "Weight:55kg\n",
            "Date of birth:-07june2006\n",
            "institute:C Bitss SEC34 chandighar\n"
          ]
        }
      ]
    },
    {
      "cell_type": "code",
      "source": [
        "Name=\"Pankaj\"\n",
        "print(\"name:\",name)\n"
      ],
      "metadata": {
        "colab": {
          "base_uri": "https://localhost:8080/"
        },
        "id": "eKDqlK1jKkSG",
        "outputId": "44b6708f-bca1-4ba1-d622-8b2e5593a0a6"
      },
      "execution_count": null,
      "outputs": [
        {
          "output_type": "stream",
          "name": "stdout",
          "text": [
            "name: pankaj\n"
          ]
        }
      ]
    },
    {
      "cell_type": "code",
      "source": [
        "age=19\n",
        "print(\"meri age  hai:\",age)"
      ],
      "metadata": {
        "colab": {
          "base_uri": "https://localhost:8080/"
        },
        "id": "UQi6Ra3hT1ZO",
        "outputId": "0beec45c-7ed2-41d8-e958-2a6b40b8b87f"
      },
      "execution_count": null,
      "outputs": [
        {
          "output_type": "stream",
          "name": "stdout",
          "text": [
            "meri age  hai: 19\n"
          ]
        }
      ]
    },
    {
      "cell_type": "code",
      "source": [
        "name=\"pankaj\"\n",
        "age=19\n",
        "address=\"morni\"\n",
        "print(\"my name is \",name , \"i am \",age,\" year old\",\"i from\",address)"
      ],
      "metadata": {
        "id": "Ob5xkVd3X_iQ",
        "colab": {
          "base_uri": "https://localhost:8080/"
        },
        "outputId": "d473f48b-c13c-4f10-d131-6cdbb8caf52d"
      },
      "execution_count": null,
      "outputs": [
        {
          "output_type": "stream",
          "name": "stdout",
          "text": [
            "my name is  pankaj i am  19  year old i from morni\n"
          ]
        }
      ]
    },
    {
      "cell_type": "code",
      "source": [
        "first_number=5\n",
        "second_number=8\n",
        "print(first_number+second_number)"
      ],
      "metadata": {
        "colab": {
          "base_uri": "https://localhost:8080/"
        },
        "id": "XvVKhMyzJAzt",
        "outputId": "20567086-e1f1-4892-b6c9-03594fc5e456"
      },
      "execution_count": null,
      "outputs": [
        {
          "output_type": "stream",
          "name": "stdout",
          "text": [
            "13\n"
          ]
        }
      ]
    },
    {
      "cell_type": "code",
      "source": [
        "a=500\n",
        "b=100\n",
        "sum=a+b\n",
        "print(\"sum\",sum)"
      ],
      "metadata": {
        "colab": {
          "base_uri": "https://localhost:8080/"
        },
        "id": "Z299gUHRKvHo",
        "outputId": "f137ead9-338b-4500-822a-b73bd3dd9820"
      },
      "execution_count": null,
      "outputs": [
        {
          "output_type": "stream",
          "name": "stdout",
          "text": [
            "sum 600\n"
          ]
        }
      ]
    },
    {
      "cell_type": "code",
      "source": [
        "a=500\n",
        "b=100\n",
        "sub=a-b\n",
        "print(\"sub\",sub)"
      ],
      "metadata": {
        "colab": {
          "base_uri": "https://localhost:8080/"
        },
        "id": "wJ9OxC3qLEer",
        "outputId": "db289b8f-d43d-426d-cf57-8a487fd7b404"
      },
      "execution_count": null,
      "outputs": [
        {
          "output_type": "stream",
          "name": "stdout",
          "text": [
            "sub 400\n"
          ]
        }
      ]
    },
    {
      "cell_type": "code",
      "source": [
        "a=500\n",
        "b=100\n",
        "product=a*b\n",
        "print(\"product\",product)"
      ],
      "metadata": {
        "colab": {
          "base_uri": "https://localhost:8080/"
        },
        "id": "gKtkLGNBLRMs",
        "outputId": "998f268c-a067-47c2-a299-fc85134abb50"
      },
      "execution_count": null,
      "outputs": [
        {
          "output_type": "stream",
          "name": "stdout",
          "text": [
            "product 50000\n"
          ]
        }
      ]
    },
    {
      "cell_type": "code",
      "source": [
        "item1=\"pizza\"\n",
        "price_of_item1=200\n",
        "item2=\"coke\"\n",
        "price_of_item2=300\n",
        "item3=\"sting\"\n",
        "price_of_item3=100\n",
        "item4=\"burgur\"\n",
        "price_of_item4=100\n",
        "item5=\"smosa\"\n",
        "price_of_item5=70\n",
        "item6=\"dew\"\n",
        "price_of_item6=40\n",
        "item7=\"noddles\"\n",
        "price_of_item7=30\n",
        "print(\"        rana dhaba      \")\n",
        "print(\"____________bill___________\")\n",
        "print(item1,\"=\",price_of_item1)\n",
        "print(item2,\"=\",price_of_item2)\n",
        "print(item3,\"=\",price_of_item3)\n",
        "print(item4,\"=\",price_of_item4)\n",
        "print(item5,\"=\",price_of_item5)\n",
        "print(item6,\"=\",price_of_item6)\n",
        "print(item7,\"=\",price_of_item7)\n",
        "print(\"-----------------------------\")\n",
        "sum=price_of_item1+price_of_item2+price_of_item3+price_of_item4+price_of_item5+price_of_item6+price_of_item7\n",
        "print(\"total bill=\",sum)\n",
        "discount=sum*(10/100)\n",
        "print(\"discount=\",discount)\n",
        "print(\"--------------------------\")\n",
        "print(\"total amount with discount=\",sum-discount)\n",
        "\n"
      ],
      "metadata": {
        "colab": {
          "base_uri": "https://localhost:8080/"
        },
        "id": "g2_IHA0rMG-q",
        "outputId": "18802458-aedb-4eb3-812a-944af3128578"
      },
      "execution_count": null,
      "outputs": [
        {
          "output_type": "stream",
          "name": "stdout",
          "text": [
            "        rana dhaba      \n",
            "____________bill___________\n",
            "pizza = 200\n",
            "coke = 300\n",
            "sting = 100\n",
            "burgur = 100\n",
            "smosa = 70\n",
            "dew = 40\n",
            "noddles = 30\n",
            "-----------------------------\n",
            "total bill= 840\n",
            "discount= 84.0\n",
            "--------------------------\n",
            "total amount with discount= 756.0\n"
          ]
        }
      ]
    },
    {
      "cell_type": "code",
      "source": [
        "name=\"pankaj\"\n",
        "address=\"morni\"\n",
        "mobile_number=1234567890\n",
        "pincode=134205\n",
        "print(\"name:\",name)\n",
        "print(\"address:\",address)\n",
        "print(\"mobile_number:\",mobile_number)\n",
        "print(\"pincode:\",pincode)"
      ],
      "metadata": {
        "colab": {
          "base_uri": "https://localhost:8080/"
        },
        "id": "KWrfqATCSADY",
        "outputId": "0b60ceb2-cc9e-4d44-97fa-e5944dbacac3"
      },
      "execution_count": null,
      "outputs": [
        {
          "output_type": "stream",
          "name": "stdout",
          "text": [
            "name: pankaj\n",
            "address: morni\n",
            "mobile_number: 1234567890\n",
            "pincode: 134205\n"
          ]
        }
      ]
    },
    {
      "cell_type": "code",
      "source": [
        "item=input(\"enter your item name= \")\n",
        "price=int(input(\"enter your price=\"))\n"
      ],
      "metadata": {
        "colab": {
          "base_uri": "https://localhost:8080/"
        },
        "id": "R5uzWbexVGSw",
        "outputId": "0b1128f7-b411-44f8-fdbb-f33ff4c8d0a7"
      },
      "execution_count": null,
      "outputs": [
        {
          "name": "stdout",
          "output_type": "stream",
          "text": [
            "enter your item name= pizaa\n",
            "enter your price=1000\n"
          ]
        }
      ]
    },
    {
      "cell_type": "code",
      "source": [
        "a=int(input(\"enter your valu of a\"))\n",
        "b=int(input(\"enter your valu of b\"))\n",
        "sum=a+b\n",
        "print(\"sum=\",sum)\n",
        "sub=a-b\n",
        "print(\"sub=\",sub)\n",
        "multiply=a*b\n",
        "print(\"multiply=\",multiply)\n",
        "divide=a/b\n",
        "print(\"divide=\",divide)"
      ],
      "metadata": {
        "colab": {
          "base_uri": "https://localhost:8080/"
        },
        "id": "QBPS8swXW5Uy",
        "outputId": "2eaca61a-3d4e-435f-a6e0-60145a304104"
      },
      "execution_count": null,
      "outputs": [
        {
          "output_type": "stream",
          "name": "stdout",
          "text": [
            "enter your valu of a8\n",
            "enter your valu of b7\n",
            "sum= 15\n",
            "sub= 1\n",
            "multiply= 56\n",
            "divide= 1.1428571428571428\n"
          ]
        }
      ]
    },
    {
      "cell_type": "code",
      "source": [
        "n=int(input(\"enter your number\"))\n",
        "if n/2==0:\n",
        "  print(\"even\")\n",
        "else:\n",
        "  print(\"odd\")"
      ],
      "metadata": {
        "colab": {
          "base_uri": "https://localhost:8080/"
        },
        "id": "f3ZsrWoDdid5",
        "outputId": "0700f10b-9368-4ca6-da94-82a548ed63ac"
      },
      "execution_count": null,
      "outputs": [
        {
          "output_type": "stream",
          "name": "stdout",
          "text": [
            "enter your number20\n",
            "odd\n"
          ]
        }
      ]
    },
    {
      "cell_type": "code",
      "source": [
        "gender=input(\"enter you grnder\")\n",
        "if gender==\"female\":\n",
        "  print(\" sunday , monday ,tuesday\")\n",
        "else:\n",
        "  print(\" wednesday , thursday , friday\")"
      ],
      "metadata": {
        "colab": {
          "base_uri": "https://localhost:8080/"
        },
        "id": "cuIPDMXL4oVd",
        "outputId": "1179e807-1600-48df-c07c-5e275f979f7d"
      },
      "execution_count": null,
      "outputs": [
        {
          "output_type": "stream",
          "name": "stdout",
          "text": [
            "enter you grndermale\n",
            " wednesday , thursday , friday\n"
          ]
        }
      ]
    },
    {
      "cell_type": "code",
      "source": [
        "p=int(input(\"enter your principal\"))\n",
        "r=int(input(\"enter your rate\"))\n",
        "t=int(input(\"enter your time\"))\n",
        "time_in_day=int(input(\"enter your time in day\"))\n",
        "time_in_month=time_in_day/30\n",
        "print(\"time in month=\",time_in_month)\n",
        "si=(p*r*t)/100\n",
        "print(\"total interest=\",si)"
      ],
      "metadata": {
        "colab": {
          "base_uri": "https://localhost:8080/"
        },
        "id": "EaC_lHmj9agK",
        "outputId": "541de3d1-3573-4706-c3d0-33b1435b827a"
      },
      "execution_count": 1,
      "outputs": [
        {
          "output_type": "stream",
          "name": "stdout",
          "text": [
            "enter your principal5000\n",
            "enter your rate5\n",
            "enter your time5\n",
            "enter your time in day20\n",
            "time in month= 0.6666666666666666\n",
            "total interest= 1250.0\n"
          ]
        }
      ]
    },
    {
      "cell_type": "code",
      "source": [
        "number=9\n",
        "if number % 2 == 0:\n",
        "  print(\"even\")\n",
        "else:\n",
        "  print(\"odd\")"
      ],
      "metadata": {
        "id": "xgl5AvqnAFdg",
        "colab": {
          "base_uri": "https://localhost:8080/"
        },
        "outputId": "56f25092-10b8-47c3-a6fd-348997f141d5"
      },
      "execution_count": 6,
      "outputs": [
        {
          "output_type": "stream",
          "name": "stdout",
          "text": [
            "odd\n"
          ]
        }
      ]
    },
    {
      "cell_type": "code",
      "source": [
        "number=49\n",
        "if number % 7 == 0 and number % 5 == 0:\n",
        "  print(\"\")"
      ],
      "metadata": {
        "id": "bSpsMWA-Dhjv"
      },
      "execution_count": 9,
      "outputs": []
    },
    {
      "cell_type": "code",
      "source": [
        "gender=input(\"enter your gender=\")\n",
        "age=int(input(\"enter your age=\"))\n",
        "if gender==\"male\":\n",
        "  print(\"go to hotal= a\")\n",
        "  if age>30:\n",
        "    print(\"go to bulding=1\")\n",
        "  else:\n",
        "    print(\"go to bulding=2\")\n",
        "else:\n",
        "  print(\"go to hotal= b\")\n",
        "  if age<30:\n",
        "    print(\"go to bulding=1\")\n",
        "  else:\n",
        "      print(\"go to bulding=2\")"
      ],
      "metadata": {
        "colab": {
          "base_uri": "https://localhost:8080/"
        },
        "id": "66COjMbdFJfi",
        "outputId": "d650714e-a387-40a0-af4e-530ef784fc09"
      },
      "execution_count": 18,
      "outputs": [
        {
          "output_type": "stream",
          "name": "stdout",
          "text": [
            "enter your gender=male\n",
            "enter your age=30\n",
            "go to hotal= a\n",
            "go to bulding=2\n"
          ]
        }
      ]
    },
    {
      "cell_type": "code",
      "source": [],
      "metadata": {
        "id": "0mmpKrR1PddN"
      },
      "execution_count": null,
      "outputs": []
    },
    {
      "cell_type": "code",
      "source": [
        "month=input(\"enter your month\")\n",
        "if month==\"jan\" or month==\"mar\" or month==\"may\" or month==\"jul\" or month==\"aug\" or month==\"oct\" or month==\"dec\":\n",
        " days_in_month=31\n",
        "elif month==\"apr\" or month==\"jun\" or month==\"sep\" or month==\"nov\":\n",
        " days_in_month=30\n",
        "elif month==\"feb\":\n",
        " day_in_month=28\n",
        "else:\n",
        "  print(\"day\")\n",
        "print(\"days in month\")"
      ],
      "metadata": {
        "colab": {
          "base_uri": "https://localhost:8080/"
        },
        "id": "l5-k_g2wLPFu",
        "outputId": "91d5852a-e7d0-4726-90cd-324572d2691f"
      },
      "execution_count": 32,
      "outputs": [
        {
          "output_type": "stream",
          "name": "stdout",
          "text": [
            "enter your monthmarch\n",
            "day\n",
            "days in month\n"
          ]
        }
      ]
    }
  ]
}