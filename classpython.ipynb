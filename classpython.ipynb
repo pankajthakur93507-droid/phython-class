{
  "nbformat": 4,
  "nbformat_minor": 0,
  "metadata": {
    "colab": {
      "provenance": [],
      "authorship_tag": "ABX9TyNN/nf3EpKKDwSIv8kBH3OP",
      "include_colab_link": true
    },
    "kernelspec": {
      "name": "python3",
      "display_name": "Python 3"
    },
    "language_info": {
      "name": "python"
    }
  },
  "cells": [
    {
      "cell_type": "markdown",
      "metadata": {
        "id": "view-in-github",
        "colab_type": "text"
      },
      "source": [
        "<a href=\"https://colab.research.google.com/github/pankajthakur93507-droid/phython-class/blob/main/classpython.ipynb\" target=\"_parent\"><img src=\"https://colab.research.google.com/assets/colab-badge.svg\" alt=\"Open In Colab\"/></a>"
      ]
    },
    {
      "cell_type": "code",
      "execution_count": null,
      "metadata": {
        "colab": {
          "base_uri": "https://localhost:8080/"
        },
        "id": "pD3KeB4i-uhm",
        "outputId": "0e021ebe-2224-41be-a452-5c5b320b46b9"
      },
      "outputs": [
        {
          "output_type": "stream",
          "name": "stdout",
          "text": [
            "hello i am Pankaj\n"
          ]
        }
      ],
      "source": [
        "print(\"hello i am Pankaj\")"
      ]
    },
    {
      "cell_type": "code",
      "source": [
        "# code for biodata #\n",
        "print(\"------Bio Data-----\")\n",
        "print(\"NAME:PANKAJ \")\n",
        "print(\"Age:19\")\n",
        "print(\"class:Phython \")\n",
        "print(\"gmail:pankajkthakur93507@gmail.com \" )\n",
        "print(\"Ph:1234567890\")\n",
        "print(\" -----INformation-----\")\n",
        "print(\"address:Morni Hilss BhojKoti\")\n",
        "print(\"Distric:Panchkula\")\n",
        "print(\"Country:India\")\n",
        "print(\"Village:Mamal\")\n",
        "\n",
        "print(\"-----Body INformation-----\")\n",
        "print(\"Height:5.5 fit\")\n",
        "print(\"Weight:55kg\")\n",
        "print(\"Date of birth:-07june2006\")\n",
        "print(\"institute:C Bitss SEC34 chandighar\")"
      ],
      "metadata": {
        "colab": {
          "base_uri": "https://localhost:8080/"
        },
        "id": "UVlmUm4WDhCW",
        "outputId": "897e2764-1456-4431-c70e-b1b9e6e518ce"
      },
      "execution_count": null,
      "outputs": [
        {
          "output_type": "stream",
          "name": "stdout",
          "text": [
            "------Bio Data-----\n",
            "NAME:PANKAJ \n",
            "Age:19\n",
            "class:Phython \n",
            "gmail:pankajkthakur93507@gmail.com \n",
            "Ph:1234567890\n",
            " -----INformation-----\n",
            "address:Morni Hilss BhojKoti\n",
            "Distric:Panchkula\n",
            "Country:India\n",
            "Village:Mamal\n",
            "-----Body INformation-----\n",
            "Height:5.5 fit\n",
            "Weight:55kg\n",
            "Date of birth:-07june2006\n",
            "institute:C Bitss SEC34 chandighar\n"
          ]
        }
      ]
    },
    {
      "cell_type": "code",
      "source": [
        "Name=\"Pankaj\"\n",
        "print(\"name:\",name)\n"
      ],
      "metadata": {
        "colab": {
          "base_uri": "https://localhost:8080/"
        },
        "id": "eKDqlK1jKkSG",
        "outputId": "44b6708f-bca1-4ba1-d622-8b2e5593a0a6"
      },
      "execution_count": null,
      "outputs": [
        {
          "output_type": "stream",
          "name": "stdout",
          "text": [
            "name: pankaj\n"
          ]
        }
      ]
    },
    {
      "cell_type": "code",
      "source": [
        "age=19\n",
        "print(\"meri age  hai:\",age)"
      ],
      "metadata": {
        "colab": {
          "base_uri": "https://localhost:8080/"
        },
        "id": "UQi6Ra3hT1ZO",
        "outputId": "0beec45c-7ed2-41d8-e958-2a6b40b8b87f"
      },
      "execution_count": null,
      "outputs": [
        {
          "output_type": "stream",
          "name": "stdout",
          "text": [
            "meri age  hai: 19\n"
          ]
        }
      ]
    },
    {
      "cell_type": "code",
      "source": [
        "name=\"pankaj\"\n",
        "age=19\n",
        "address=\"morni\"\n",
        "print(\"my name is \",name , \"i am \",age,\" year old\",\"i from\",address)"
      ],
      "metadata": {
        "id": "Ob5xkVd3X_iQ",
        "colab": {
          "base_uri": "https://localhost:8080/"
        },
        "outputId": "d473f48b-c13c-4f10-d131-6cdbb8caf52d"
      },
      "execution_count": 3,
      "outputs": [
        {
          "output_type": "stream",
          "name": "stdout",
          "text": [
            "my name is  pankaj i am  19  year old i from morni\n"
          ]
        }
      ]
    },
    {
      "cell_type": "code",
      "source": [
        "first_number=5\n",
        "second_number=8\n",
        "print(first_number+second_number)"
      ],
      "metadata": {
        "colab": {
          "base_uri": "https://localhost:8080/"
        },
        "id": "XvVKhMyzJAzt",
        "outputId": "20567086-e1f1-4892-b6c9-03594fc5e456"
      },
      "execution_count": 6,
      "outputs": [
        {
          "output_type": "stream",
          "name": "stdout",
          "text": [
            "13\n"
          ]
        }
      ]
    },
    {
      "cell_type": "code",
      "source": [
        "a=500\n",
        "b=100\n",
        "sum=a+b\n",
        "print(\"sum\",sum)"
      ],
      "metadata": {
        "colab": {
          "base_uri": "https://localhost:8080/"
        },
        "id": "Z299gUHRKvHo",
        "outputId": "f137ead9-338b-4500-822a-b73bd3dd9820"
      },
      "execution_count": 7,
      "outputs": [
        {
          "output_type": "stream",
          "name": "stdout",
          "text": [
            "sum 600\n"
          ]
        }
      ]
    },
    {
      "cell_type": "code",
      "source": [
        "a=500\n",
        "b=100\n",
        "sub=a-b\n",
        "print(\"sub\",sub)"
      ],
      "metadata": {
        "colab": {
          "base_uri": "https://localhost:8080/"
        },
        "id": "wJ9OxC3qLEer",
        "outputId": "db289b8f-d43d-426d-cf57-8a487fd7b404"
      },
      "execution_count": 8,
      "outputs": [
        {
          "output_type": "stream",
          "name": "stdout",
          "text": [
            "sub 400\n"
          ]
        }
      ]
    },
    {
      "cell_type": "code",
      "source": [
        "a=500\n",
        "b=100\n",
        "product=a*b\n",
        "print(\"product\",product)"
      ],
      "metadata": {
        "colab": {
          "base_uri": "https://localhost:8080/"
        },
        "id": "gKtkLGNBLRMs",
        "outputId": "998f268c-a067-47c2-a299-fc85134abb50"
      },
      "execution_count": 9,
      "outputs": [
        {
          "output_type": "stream",
          "name": "stdout",
          "text": [
            "product 50000\n"
          ]
        }
      ]
    },
    {
      "cell_type": "code",
      "source": [
        "item1=\"pizza\"\n",
        "price_of_item1=200\n",
        "item2=\"coke\"\n",
        "price_of_item2=300\n",
        "item3=\"sting\"\n",
        "price_of_item3=100\n",
        "item4=\"burgur\"\n",
        "price_of_item4=100\n",
        "item5=\"smosa\"\n",
        "price_of_item5=70\n",
        "print(\"        rana dhaba      \")\n",
        "print(\"____________bill___________\")\n",
        "print(item1,\"=\",price_of_item1)\n",
        "print(item2,\"=\",price_of_item2)\n",
        "print(item3,\"=\",price_of_item3)\n",
        "print(item4,\"=\",price_of_item4)\n",
        "print(item4,\"=\",price_of_item5)\n",
        "print(\"-----------------------------\")\n",
        "sum=price_of_item1+price_of_item2+price_of_item3+price_of_item4+price_of_item5\n",
        "print(\"total bill=\",sum)"
      ],
      "metadata": {
        "colab": {
          "base_uri": "https://localhost:8080/"
        },
        "id": "g2_IHA0rMG-q",
        "outputId": "a77d077c-3967-415d-f99c-cb782f3e0352"
      },
      "execution_count": 20,
      "outputs": [
        {
          "output_type": "stream",
          "name": "stdout",
          "text": [
            "        rana dhaba      \n",
            "____________bill___________\n",
            "pizza = 200\n",
            "coke = 300\n",
            "sting = 100\n",
            "burgur = 100\n",
            "burgur = 70\n",
            "-----------------------------\n",
            "total bill= 770\n"
          ]
        }
      ]
    }
  ]
}